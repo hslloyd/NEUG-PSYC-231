{
 "cells": [
  {
   "cell_type": "markdown",
   "id": "de3f7c37",
   "metadata": {},
   "source": [
    "# Problem set 00\n",
    "* Markdown, basic syntax, control flow, looping\n",
    "* js (jserences@ucsd.edu), Fall 2022 for NEUG/PSYC 231"
   ]
  },
  {
   "cell_type": "code",
   "execution_count": 10,
   "id": "5d0b5e7a",
   "metadata": {},
   "outputs": [],
   "source": [
    "import numpy as np\n",
    "import math"
   ]
  },
  {
   "cell_type": "markdown",
   "id": "4bfa5e58",
   "metadata": {},
   "source": [
    "### 0: Markdown cells\n",
    "\n",
    "- Convert the cell immediately below this one from a code cell to a markdown cell.\n",
    "- Write a Level 3 heading with your name.\n",
    "- Below that create a bulleted list that states your grad program (or major), your favorite food, and a hobby.\n",
    "- Finally, write out the sentence: “I can learn to code and I will be excellent at it!” with the following formatting:\n",
    "     - the word “can” should be in bold\n",
    "     - the word \"excellent\" should be in italics\n",
    "     - the word \"code\" should be a link to `https://www.python.org`"
   ]
  },
  {
   "cell_type": "markdown",
   "id": "80ecf89a",
   "metadata": {},
   "source": [
    "### Hannah Lloyd \n",
    "* psychology, pizza, skateboarding\n",
    "\n",
    "I **can** learn to [code](https://www.python.org) and I will be _excellent_ at it!"
   ]
  },
  {
   "cell_type": "markdown",
   "id": "d324c050",
   "metadata": {},
   "source": [
    "### 1: Variables and Arithmetic\n",
    "\n",
    "In the cell below,\n",
    "- assign `4` to the integer variable `x`,\n",
    "- assign the square root of 3 to the variable `y` (remember taking the square root is the same as raising to the power of 1/2: $\\sqrt{a}=a^{0.5}$)\n",
    "- assign the sum of `x` and `y` to the variable `xy_sum`\n",
    "- assign the product of `x` and `y` to the variable `xy_prod`\n",
    "- and then confirm that this was successful by checking the type using both the `type` function and the `isinstance` function\n",
    "- convert `xy_prod` to an `int` using typecasting...what happens to the value? (i.e. what information do you lose?) "
   ]
  },
  {
   "cell_type": "code",
   "execution_count": 22,
   "id": "3788125a",
   "metadata": {},
   "outputs": [
    {
     "name": "stdout",
     "output_type": "stream",
     "text": [
      "5.732050807568877\n",
      "<class 'int'>\n",
      "<class 'float'>\n"
     ]
    },
    {
     "ename": "AttributeError",
     "evalue": "'int' object has no attribute 'int'",
     "output_type": "error",
     "traceback": [
      "\u001b[0;31m---------------------------------------------------------------------------\u001b[0m",
      "\u001b[0;31mAttributeError\u001b[0m                            Traceback (most recent call last)",
      "\u001b[0;32m<ipython-input-22-382b0f361fa3>\u001b[0m in \u001b[0;36m<module>\u001b[0;34m\u001b[0m\n\u001b[1;32m     11\u001b[0m \u001b[0mxy_prod\u001b[0m \u001b[0;34m=\u001b[0m \u001b[0mint\u001b[0m\u001b[0;34m(\u001b[0m\u001b[0mxy_prod\u001b[0m\u001b[0;34m)\u001b[0m\u001b[0;34m\u001b[0m\u001b[0;34m\u001b[0m\u001b[0m\n\u001b[1;32m     12\u001b[0m \u001b[0mtype\u001b[0m\u001b[0;34m(\u001b[0m\u001b[0mxy_prod\u001b[0m\u001b[0;34m)\u001b[0m\u001b[0;34m\u001b[0m\u001b[0;34m\u001b[0m\u001b[0m\n\u001b[0;32m---> 13\u001b[0;31m \u001b[0mxy_prod\u001b[0m \u001b[0;34m=\u001b[0m \u001b[0mxy_prod\u001b[0m\u001b[0;34m.\u001b[0m\u001b[0mint\u001b[0m\u001b[0;34m(\u001b[0m\u001b[0;34m)\u001b[0m\u001b[0;34m\u001b[0m\u001b[0;34m\u001b[0m\u001b[0m\n\u001b[0m",
      "\u001b[0;31mAttributeError\u001b[0m: 'int' object has no attribute 'int'"
     ]
    }
   ],
   "source": [
    "x = 4\n",
    "y = math.sqrt(3) \n",
    "xy_sum = x + y \n",
    "print(xy_sum)\n",
    "xy_prod = x*y \n",
    "lst = [x, y] \n",
    "for i in lst: \n",
    "    print(type(i))\n",
    "isinstance(x,float)\n",
    "isinstance(y,float) \n",
    "xy_prod = int(xy_prod) \n",
    "type(xy_prod) "
   ]
  },
  {
   "cell_type": "markdown",
   "id": "76a98093",
   "metadata": {},
   "source": [
    "### 2: types and operators\n",
    "\n",
    "The variables `x` and `y` are set for you in the next cell - do not modify them but run that cell.\n",
    "Then use only the variables `x` and `y`, the functions `int()`, `str()` and the operators `+` and `*` to make the following variables have these types and values:\n",
    "- `A` (float) 8.0\n",
    "- `B` (int) 15\n",
    "- `C` (str) 33333\n",
    "- `D` (str) 53\n",
    "- `E` (int) 33"
   ]
  },
  {
   "cell_type": "code",
   "execution_count": 24,
   "id": "edb6df3d",
   "metadata": {},
   "outputs": [],
   "source": [
    "x = '3'\n",
    "y = 5.0 \n",
    "# x , y, int(), sttr, + , *"
   ]
  },
  {
   "cell_type": "code",
   "execution_count": 26,
   "id": "86f77825",
   "metadata": {},
   "outputs": [],
   "source": [
    "# your answer here"
   ]
  },
  {
   "cell_type": "code",
   "execution_count": 28,
   "id": "add65a88",
   "metadata": {},
   "outputs": [
    {
     "name": "stdout",
     "output_type": "stream",
     "text": [
      "8.0\n"
     ]
    }
   ],
   "source": [
    "A = int(x) + y \n",
    "print(A)"
   ]
  },
  {
   "cell_type": "code",
   "execution_count": 30,
   "id": "22723d7b",
   "metadata": {},
   "outputs": [
    {
     "name": "stdout",
     "output_type": "stream",
     "text": [
      "15\n"
     ]
    }
   ],
   "source": [
    "B = int(y) * int(x)\n",
    "print(B)"
   ]
  },
  {
   "cell_type": "code",
   "execution_count": null,
   "id": "0ea23cf5",
   "metadata": {},
   "outputs": [],
   "source": [
    "C = x * int(y)\n",
    "print(C)"
   ]
  },
  {
   "cell_type": "code",
   "execution_count": 39,
   "id": "e236f89b",
   "metadata": {},
   "outputs": [
    {
     "name": "stdout",
     "output_type": "stream",
     "text": [
      "53\n"
     ]
    }
   ],
   "source": [
    "D = str(int(y)) + x\n",
    "print(D)"
   ]
  },
  {
   "cell_type": "code",
   "execution_count": 41,
   "id": "72b9287c",
   "metadata": {},
   "outputs": [
    {
     "name": "stdout",
     "output_type": "stream",
     "text": [
      "33\n"
     ]
    }
   ],
   "source": [
    "E = str(x + x)\n",
    "print (E)"
   ]
  },
  {
   "cell_type": "markdown",
   "id": "7240b239",
   "metadata": {},
   "source": []
  },
  {
   "cell_type": "markdown",
   "id": "e581636e",
   "metadata": {},
   "source": [
    "### 3: filter list\n",
    "\n",
    "- make a list `multiples_of_2_or_3` which contains all the numbers between 1 and 100 that are either multiples of 2 or multiples of 3 using a combination of a `for` loop with a `if` conditional inside the loop.\n",
    "- start by initializing an empty list, then fill it up in the loop using the `append` method of a list\n",
    "- To figure out if a number is evenly divisible by 2 or 3 use the `%` (mod) operator. The `%` operator returns the remainder after division, and if a number is evenly divisible by 2 (for example) then the result of that number `%` 2 will be 0!"
   ]
  },
  {
   "cell_type": "code",
   "execution_count": 45,
   "id": "eae03a5b",
   "metadata": {},
   "outputs": [
    {
     "name": "stdout",
     "output_type": "stream",
     "text": [
      "[5, 7, 9, 11, 13, 15, 17, 19, 21, 23, 25, 27, 29, 31, 33, 35, 37, 39, 5, 7, 9, 11, 13, 15, 17, 19, 21, 23, 25, 27, 29, 31, 33, 35, 37, 39]\n",
      "[2, 3, 4, 6, 8, 9, 10, 12, 14, 15, 16, 18, 20, 21, 22, 24, 26, 27, 28, 30, 32, 33, 34, 36, 38, 39, 40, 42, 44, 45, 46, 48, 50, 51, 52, 54, 56, 57, 58, 60, 62, 63, 64, 66, 68, 69, 70, 72, 74, 75, 76, 78, 80, 81, 82, 84, 86, 87, 88, 90, 92, 93, 94, 96, 98, 99, 100]\n"
     ]
    }
   ],
   "source": [
    "# start stop step\n",
    "\n",
    "multiples_of_2_or_3 = []\n",
    "\n",
    "for num in range(5,40,2): #START STOP STEP\n",
    "    lst.append(num) #.append is a method!\n",
    "    \n",
    "print(lst)\n",
    "\n",
    "\n",
    "for i in range(1,101): \n",
    "        if i%2 == 0 or i%3 == 0: \n",
    "            multiples_of_2_or_3.append(i) \n",
    "print(multiples_of_2_or_3)\n"
   ]
  },
  {
   "cell_type": "markdown",
   "id": "2983546b",
   "metadata": {},
   "source": [
    "### 4 FizzBuzz list\n",
    "\n",
    "FizzBuzz is a canonical programming challenge involving looping, conditionals, and comparisons.  The goal is to implement the kids' game [\"Fizz Buzz\"](https://en.wikipedia.org/wiki/Fizz_buzz):  Count up from 1.  For each number, if it is divisible by 3 say \"Fizz\", if it is divisible by 5 say \"Buzz\", (thus say \"FizzBuzz\" for numbers divisible by 15).  For all other numbers, just say that number.\n",
    "\n",
    "Use a `for` loop, `if..elif...else` statements, to build a list variable with the name `fizzbuzz`.\n",
    "- the list should contain the numbers 1 through 100, in order except:\n",
    "- any number that is a multiple of 3 should be replaced with the string \"Fizz\"\n",
    "- any number that is a multiple of 5 should be replaced with the string \"Buzz\"\n",
    "- any number that is a multiple of 3 and 5 (i.e. a multiple of 15) should be replaced with \"FizzBuzz\"\n",
    "\n",
    "Here is a table of sample output (only going up to the number 16):\n",
    "\n",
    "| **n** | **result** |\n",
    "| ------|-----------|\n",
    "| 1 | 1 | \n",
    "| 2 | 2 |\n",
    "| 3 | \"Fizz\" |\n",
    "| 4 | 4 |\n",
    "| 5 | \"Buzz\" |\n",
    "| 6 | \"Fizz\" | \n",
    "| 7 | 7 | \n",
    "| ... | ... | \n",
    "| 14 | 14 | \n",
    "| 15 | \"FizzBuzz\" |\n",
    "| 16 | 16 |  "
   ]
  },
  {
   "cell_type": "code",
   "execution_count": 50,
   "id": "d452184f",
   "metadata": {},
   "outputs": [
    {
     "name": "stdout",
     "output_type": "stream",
     "text": [
      "[1, 2, 'Fizz', 4, 'Buzz', 'Fizz', 7, 8, 'Fizz', 'Buzz', 11, 'Fizz', 13, 14, 'FizzBuzz', 16, 17, 'Fizz', 19, 'Buzz', 'Fizz', 22, 23, 'Fizz', 'Buzz', 26, 'Fizz', 28, 29, 'FizzBuzz', 31, 32, 'Fizz', 34, 'Buzz', 'Fizz', 37, 38, 'Fizz', 'Buzz', 41, 'Fizz', 43, 44, 'FizzBuzz', 46, 47, 'Fizz', 49, 'Buzz', 'Fizz', 52, 53, 'Fizz', 'Buzz', 56, 'Fizz', 58, 59, 'FizzBuzz', 61, 62, 'Fizz', 64, 'Buzz', 'Fizz', 67, 68, 'Fizz', 'Buzz', 71, 'Fizz', 73, 74, 'FizzBuzz', 76, 77, 'Fizz', 79, 'Buzz', 'Fizz', 82, 83, 'Fizz', 'Buzz', 86, 'Fizz', 88, 89, 'FizzBuzz', 91, 92, 'Fizz', 94, 'Buzz', 'Fizz', 97, 98, 'Fizz', 'Buzz']\n"
     ]
    }
   ],
   "source": [
    "# divisible by 3 = Fizz \n",
    "# divisible by 5 = Buzz \n",
    "# divisible by 15 = FizzBuzz\n",
    "# else say the number \n",
    "fzbz = []\n",
    "for i in range(1,101):\n",
    "    if i%15 == 0:  \n",
    "        i = \"FizzBuzz\"\n",
    "        fzbz.append(i) \n",
    "    elif i%5 == 0 :\n",
    "        i = \"Buzz\"\n",
    "        fzbz.append(i)\n",
    "    elif i%3 == 0:\n",
    "        i = \"Fizz\"\n",
    "        fzbz.append(i) \n",
    "    else:\n",
    "        fzbz.append(i) \n",
    "        \n",
    "print(fzbz)\n",
    "        "
   ]
  },
  {
   "cell_type": "markdown",
   "id": "01321065",
   "metadata": {},
   "source": [
    "### Challenge question: \n",
    "\n",
    "It is possible to solve the FizzBuzz challenge by writing a function which uses no conditional logic at all, but which uses math to separate integers into 4 possible categories: \n",
    "\n",
    "    Those which have 3 as a factor, but not 5\n",
    "    Those which have 5 as a factor, but not 3\n",
    "    Those which have both 3 and 5 as a factor\n",
    "    Those which have neither 3 nor 5 as factors\n",
    "\n",
    "(Note - I just ran across this today, and it seems kind of fun, but challenging!)\n",
    "\n",
    "[explanation here](http://philcrissman.net/posts/eulers-fizzbuzz/)\n"
   ]
  },
  {
   "cell_type": "code",
   "execution_count": null,
   "id": "914c9d5c",
   "metadata": {},
   "outputs": [],
   "source": [
    "# your answer here"
   ]
  }
 ],
 "metadata": {
  "kernelspec": {
   "display_name": "Python 3",
   "language": "python",
   "name": "python3"
  },
  "language_info": {
   "codemirror_mode": {
    "name": "ipython",
    "version": 3
   },
   "file_extension": ".py",
   "mimetype": "text/x-python",
   "name": "python",
   "nbconvert_exporter": "python",
   "pygments_lexer": "ipython3",
   "version": "3.8.8"
  }
 },
 "nbformat": 4,
 "nbformat_minor": 5
}
