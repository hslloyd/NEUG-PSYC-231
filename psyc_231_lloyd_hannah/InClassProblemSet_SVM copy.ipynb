{
 "cells": [
  {
   "cell_type": "markdown",
   "metadata": {},
   "source": [
    "# In class exercises for SVM tutorial"
   ]
  },
  {
   "cell_type": "markdown",
   "metadata": {},
   "source": [
    "## Read in data from eeg study\n",
    "* This time I've kept in data across a 1s window from many electrodes (20) sampled at 250Hz, so now we have a [960, 20, 250] matrix that contains data from all 960 trials, 20 electrodes, and over a 1s window following stimulus onset\n",
    "* Also read in a \"cond_labels\" vector that has 960 0's and 1's to mark trials from the two experimental conditions \n",
    "\n",
    "### Hints and tips...\n",
    "* Pay careful attention to the dimension that you are operating over when you take the mean, etc.\n",
    "* When plotting, the size of the first axis of your \"x\" data must match the size of the first axis of your \"y\" data. The \".T\" method will transpose a numpy array, or swap the first and second dimensions. E.g., if my_array.shape is 200,10, then my_array.T will be of shape 10,200. "
   ]
  },
  {
   "cell_type": "code",
   "execution_count": 1,
   "metadata": {},
   "outputs": [],
   "source": [
    "import numpy as np\n",
    "import matplotlib.pyplot as plt\n",
    "# Support vector classifier\n",
    "from sklearn.svm import SVC\n",
    "\n",
    "from sklearn.metrics import accuracy_score"
   ]
  },
  {
   "cell_type": "code",
   "execution_count": 2,
   "metadata": {},
   "outputs": [
    {
     "name": "stdout",
     "output_type": "stream",
     "text": [
      "Shape of the big eeg data set:  (960, 20, 250)\n"
     ]
    }
   ],
   "source": [
    "# load the data...\n",
    "eeg = np.load('class_demo_eeg.npz')\n",
    "\n",
    "# get the different arrays like this...\n",
    "eeg['data']\n",
    "eeg['sr']\n",
    "eeg['tx']\n",
    "eeg['cond_labels']\n",
    "\n",
    "# shape of data\n",
    "print('Shape of the big eeg data set: ', eeg['data'].shape)\n",
    "\n",
    "# and if you want to save some typing, especially because we only have a few variables, you reassign the different arrays like this\n",
    "data = eeg['data']\n",
    "sr = eeg['sr']\n",
    "tx = eeg['tx']\n",
    "cond_labels = eeg['cond_labels']\n"
   ]
  },
  {
   "cell_type": "markdown",
   "metadata": {},
   "source": [
    "## Plot the mean response across all trials in each of the 20 electrodes\n",
    "* This will produce a plot of the mean response for each electrode across time (so you want time on the x-axis and mean response on the y-axis). \n",
    "* May need to transpose the data...\n",
    "* Put labels on the axes, and plot a horizontal line at the 0 mV point."
   ]
  },
  {
   "cell_type": "code",
   "execution_count": null,
   "metadata": {},
   "outputs": [],
   "source": [
    "# get the mean over the first dim\n",
    "mean_data = np.mean(data, axis=0)\n",
    "print(mean_data.shape)\n",
    "\n",
    "# plot\n",
    "plt.plot(tx, mean_data.T)\n",
    "plt.hlines(0,xmin=0,xmax=1000, color='k')\n",
    "plt.xlabel('Time(msec)')\n",
    "plt.ylabel('Response (mV)')\n",
    "plt.show()"
   ]
  },
  {
   "cell_type": "markdown",
   "metadata": {},
   "source": [
    "## That gives you an idea about what the pattern of data looks like across electrodes. \n",
    "* Importantly, not all the electrodes are doing the same thing...\n",
    "* Next, take the mean across time separately in each electrode, so you should end up with a 960 x 20 matrix \n",
    "* Use the cond_labels vector to sort the data based on condition (so you have two 480 x 20 matrices), one matrix for each experimental condition.\n",
    "* Take 90% (or thereabouts) of the data from each condition and use that as a training set. Use the remaining 10% of data from each condition as a test set. \n",
    "* Do classification to see if you can decode the experimental condition - train the model on your \"training\" data, and then test on the held out 10% from each condition."
   ]
  },
  {
   "cell_type": "code",
   "execution_count": null,
   "metadata": {},
   "outputs": [],
   "source": [
    "# mean of 3rd dim (time)\n",
    "all_data = np.mean(data, axis=2)\n",
    "\n",
    "# sort data into two conditions\n",
    "data0 = all_data[cond_labels==0,:]\n",
    "data1 = all_data[cond_labels==1,:]\n",
    "\n",
    "# define how much training data to use\n",
    "pcnt_trn = .9\n",
    "num_train_per_cond = int(np.floor(pcnt_trn * data0.shape[0]))\n",
    "\n",
    "# then separate out training and test data\n",
    "trn_data = np.vstack( (data0[:num_train_per_cond,:], data1[:num_train_per_cond,:])  )\n",
    "trn_labels = np.hstack((np.zeros(num_train_per_cond), np.ones(num_train_per_cond)))\n",
    "\n",
    "# then assign the test set and test set labels\n",
    "tst_data = np.vstack( (data0[num_train_per_cond:,:], data1[num_train_per_cond:,:])  )\n",
    "num_tst_per_cond = int(tst_data.shape[0]/2)\n",
    "tst_labels = np.hstack((np.zeros(num_tst_per_cond), np.ones(num_tst_per_cond)))\n",
    "\n",
    "# SVC \n",
    "model = SVC(kernel='linear', C=1)\n",
    "\n",
    "# then fit the model to our training data by passing in the data matrix + a list of labels that denotes the \n",
    "# experimental condition for each trial\n",
    "model.fit(trn_data, trn_labels)\n",
    "\n",
    "# then predict\n",
    "class_labels = model.predict(tst_data)\n",
    "\n",
    "# Then just compute our classification accuracy by comparing the predicted labels to the ground truth\n",
    "class_acc = np.sum(class_labels==tst_labels) /  tst_data.shape[0]\n",
    "print('Classification accuracy with a SVM is: ', class_acc)"
   ]
  },
  {
   "cell_type": "markdown",
   "metadata": {},
   "source": [
    "## Now try doing this across a more targeted set of timepoints...\n",
    "* First do a time window based on where you think there is nice separation in the responses across electrodes (look at the data that you plotted above)...maybe try 300-400msec post stim and a few others...\n",
    "* Bonus on your own: try timepoint x timepoint or a **moving average window** (e.g. a series of 10ms bins)"
   ]
  },
  {
   "cell_type": "code",
   "execution_count": null,
   "metadata": {},
   "outputs": [],
   "source": [
    "# just for a demo, pick out a temporal window over which to average\n",
    "t_win = (tx>=300) & (tx<400)\n",
    "\n",
    "# mean of 3rd dim (time)\n",
    "all_data = np.mean(data[:,:,t_win], axis=2)\n",
    "\n",
    "# sort data into two conditions\n",
    "data0 = all_data[cond_labels==0,:]\n",
    "data1 = all_data[cond_labels==1,:]\n",
    "\n",
    "# define how much training data to use\n",
    "pcnt_trn = .9\n",
    "num_train_per_cond = int(np.floor(pcnt_trn * data0.shape[0]))\n",
    "\n",
    "# then separate out training and test data\n",
    "trn_data = np.vstack( (data0[:num_train_per_cond,:], data1[:num_train_per_cond,:])  )\n",
    "trn_labels = np.hstack((np.zeros(num_train_per_cond), np.ones(num_train_per_cond)))\n",
    "\n",
    "# then assign the test set and test set labels\n",
    "tst_data = np.vstack( (data0[num_train_per_cond:,:], data1[num_train_per_cond:,:])  )\n",
    "num_tst_per_cond = int(tst_data.shape[0]/2)\n",
    "tst_labels = np.hstack((np.zeros(num_tst_per_cond), np.ones(num_tst_per_cond)))\n",
    "\n",
    "# SVC \n",
    "model = SVC(kernel='linear', C=1)\n",
    "\n",
    "# then fit the model to our training data by passing in the data matrix + a list of labels that denotes the \n",
    "# experimental condition for each trial\n",
    "model.fit(trn_data, trn_labels)\n",
    "\n",
    "# then predict\n",
    "class_labels = model.predict(tst_data)\n",
    "\n",
    "accuracy_score(tst_labels, class_labels)\n",
    "\n",
    "# Then just compute our classification accuracy by comparing the predicted labels to the ground truth\n",
    "class_acc = np.sum(class_labels==tst_labels) /  tst_data.shape[0]\n",
    "print('Classification accuracy with a SVM is: ', class_acc)"
   ]
  }
 ],
 "metadata": {
  "kernelspec": {
   "display_name": "Python 3",
   "language": "python",
   "name": "python3"
  },
  "language_info": {
   "codemirror_mode": {
    "name": "ipython",
    "version": 3
   },
   "file_extension": ".py",
   "mimetype": "text/x-python",
   "name": "python",
   "nbconvert_exporter": "python",
   "pygments_lexer": "ipython3",
   "version": "3.8.8"
  }
 },
 "nbformat": 4,
 "nbformat_minor": 2
}
