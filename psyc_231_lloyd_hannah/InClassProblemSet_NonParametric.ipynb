{
 "cells": [
  {
   "cell_type": "markdown",
   "metadata": {},
   "source": [
    "# InClass exercises (randomization and bootstrapping)\n"
   ]
  },
  {
   "cell_type": "markdown",
   "metadata": {},
   "source": [
    "## First start by importing the packages you'll need. \n",
    "* Numpy, scipy, and matplotlib\n"
   ]
  },
  {
   "cell_type": "code",
   "execution_count": 1,
   "metadata": {},
   "outputs": [],
   "source": [
    "import numpy as np\n",
    "from scipy import stats  # has t-tests and other stats stuff...\n",
    "import matplotlib.pyplot as plt"
   ]
  },
  {
   "cell_type": "markdown",
   "metadata": {},
   "source": [
    "## Part I: Start with some data. This is a slightly modified part of the Anscombe data set\n",
    "* First plot it\n",
    "* Then compute the correlation coeffecient that relates the two arrays\n",
    "* Then the t-value and p-value associated with the correlation. "
   ]
  },
  {
   "cell_type": "code",
   "execution_count": 2,
   "metadata": {},
   "outputs": [],
   "source": [
    "d1 = np.array([8.1, 8.01, 7.8, 7.85, 8.21, 8.11, 7.95, 12.5, 8.05, 7.98, 8.13])\n",
    "d2 = np.array([6.58, 5.76, 7.71, 8.84, 8.47, 7.04, 5.25, 19, 5.56, 7.91, 6.89])"
   ]
  },
  {
   "cell_type": "markdown",
   "metadata": {},
   "source": [
    "## Ok - now scatterplot the data"
   ]
  },
  {
   "cell_type": "code",
   "execution_count": 3,
   "metadata": {},
   "outputs": [
    {
     "data": {
      "image/png": "[encoded data removed]",
      "text/plain": [
       "<Figure size 432x288 with 1 Axes>"
      ]
     },
     "metadata": {
      "needs_background": "light"
     },
     "output_type": "display_data"
    }
   ],
   "source": [
    "# plot the data...\n",
    "plt.scatter( d1, d2, color='k', alpha=.5 )\n",
    "plt.title( '' )\n",
    "plt.show()"
   ]
  },
  {
   "cell_type": "markdown",
   "metadata": {},
   "source": [
    "## Based on this plot, what do you think is going to happen when we compare the output from a parametric test and a radomization test?\n",
    "* First compute parametric correlation coef and p-value..."
   ]
  },
  {
   "cell_type": "code",
   "execution_count": 4,
   "metadata": {},
   "outputs": [
    {
     "name": "stdout",
     "output_type": "stream",
     "text": [
      "Correlation: 0.9440640224607472, Pval: 1.2498961305090947e-05\n"
     ]
    },
    {
     "data": {
      "text/plain": [
       "0.9440640224607472"
      ]
     },
     "execution_count": 4,
     "metadata": {},
     "output_type": "execute_result"
    }
   ],
   "source": [
    "# parametric correlation coeffecient\n",
    "\n",
    "# save out the length of the data\n",
    "N = len( d1 )\n",
    "\n",
    "# stats.pearsonr return correlation coeffecient (r)\n",
    "# and associated p-value (p)\n",
    "parametric_r, parametric_p = stats.pearsonr( d1, d2 )\n",
    "\n",
    "corr = np.corrcoef(d1,d2)[0,1]\n",
    "para_r,para_p = stats.pearsonr(d1,d2)\n",
    "print( f'Correlation: {parametric_r}, Pval: {parametric_p}' )\n",
    "\n",
    "corr"
   ]
  },
  {
   "cell_type": "markdown",
   "metadata": {},
   "source": [
    "## Now use randomization testing to put a (slightly) better p-value on the data...\n",
    "* Run 10000 iterations of the randomization test to evalute how likely your correltation value is under the assumption that your condition label makes no difference (ie. that your manipulation is meaningless)\n",
    "* On each iteration randomly decide if each data point is assigned to one condition or the other\n",
    "    * One easy way to do this is to flip a coin to determine assignment of each data point (e.g. `if np.random.rand() < .5` then assign a data point to condition 1, otherwise to condition 2\n",
    "* then re-compute correlation on each iteration\n",
    "* then compare the distribution of p values under the null to your obtained p-value"
   ]
  },
  {
   "cell_type": "code",
   "execution_count": 10,
   "metadata": {
    "scrolled": true
   },
   "outputs": [
    {
     "name": "stdout",
     "output_type": "stream",
     "text": [
      "Randomization-based p-value:  0.0172  Parametric P-value:  1.2498961305090947e-05\n"
     ]
    }
   ],
   "source": [
    "np.random.seed(0)\n",
    "\n",
    "num_rands = 10000 # randomly chosen, more is better\n",
    "\n",
    "null_r = np.zeros(num_rands)\n",
    "tmp0 = np.zeros(N)\n",
    "tmp1 = np.zeros(N)\n",
    "\n",
    "# start a loop over randomization iterations\n",
    "for i in np.arange(num_rands):\n",
    "\n",
    "    # write this out explicitly for clarity - randomly assigning numbers from d1 or d2\n",
    "    # i.e. condition doesn't matter. \n",
    "    for j in np.arange(N): \n",
    "        \n",
    "        if np.random.rand() < .5: #give me a random distribution between zero and 1, if its less than 0.5\n",
    "            tmp0[j] = d1[j]\n",
    "            tmp1[j] = d2[j]\n",
    "            \n",
    "        else: #if its greater than 0.5\n",
    "            tmp0[j] = d2[j]\n",
    "            tmp1[j] = d1[j]\n",
    "\n",
    "\n",
    "\n",
    " # then re-compute correlation on each iteration\n",
    "    null_r[i], _ = stats.pearsonr(tmp0, tmp1) #stats.pearson returns two values, so \",_\" means return the p value to a dummy variableb\n",
    "    \n",
    "#then compare the distribution of p values under the null to your obtained p-value\n",
    "# compute the p-value of our real t-score (t_val) vs our radomized distribution\n",
    "null_p = 2 * ( np.sum( null_r > parametric_r ) / num_rands)\n",
    "\n",
    "print('Randomization-based p-value: ', null_p, ' Parametric P-value: ', parametric_p)\n"
   ]
  },
  {
   "cell_type": "code",
   "execution_count": 14,
   "metadata": {},
   "outputs": [
    {
     "data": {
      "text/plain": [
       "(array([1099., 2646., 3312., 1412.,  479.,  428.,  270.,  207.,   43.,\n",
       "         104.]),\n",
       " array([0.72526154, 0.74940232, 0.7735431 , 0.79768388, 0.82182467,\n",
       "        0.84596545, 0.87010623, 0.89424701, 0.91838779, 0.94252857,\n",
       "        0.96666935]),\n",
       " <BarContainer object of 10 artists>)"
      ]
     },
     "execution_count": 14,
     "metadata": {},
     "output_type": "execute_result"
    },
    {
     "data": {
      "image/png": "[encoded data removed]",
      "text/plain": [
       "<Figure size 432x288 with 1 Axes>"
      ]
     },
     "metadata": {
      "needs_background": "light"
     },
     "output_type": "display_data"
    }
   ],
   "source": [
    "plt.hist(null_r)"
   ]
  },
  {
   "cell_type": "markdown",
   "metadata": {},
   "source": [
    "**wow thats a lot of high r values! Randomization isnt good here since the outlier is a crazy outlier and will always pull the data**"
   ]
  },
  {
   "cell_type": "markdown",
   "metadata": {},
   "source": [
    "## Would you still want to publish these data? Why does label swapping here still result in such a low p-value when the correlation is visibly so dubious? Why would bootstrapping be more appropriate here? Give it a try to see what happens...\n",
    "* Resample the data **with replacement** (10000 times or whatever)\n",
    "* On each bootstrap iteration recompute your correlation\n",
    "* Then compute confidence intervals...\n"
   ]
  },
  {
   "cell_type": "markdown",
   "metadata": {},
   "source": [
    "- Would you still want to publish these data? No since i got a low p-value as well with labelless data \n",
    "\n",
    "- Why does label swapping here still result in such a low p-value when the correlation is visibly so dubious? since the outlier is so large, the p-value will still carry the data\n",
    "\n",
    "- Why would bootstrapping be more appropriate here? low probability of the outlier to appear when bootstrapping because it doesn't occur as much"
   ]
  },
  {
   "cell_type": "code",
   "execution_count": 13,
   "metadata": {},
   "outputs": [
    {
     "data": {
      "image/png": "[encoded data removed]",
      "text/plain": [
       "<Figure size 432x288 with 1 Axes>"
      ]
     },
     "metadata": {
      "needs_background": "light"
     },
     "output_type": "display_data"
    }
   ],
   "source": [
    "# number of bootstraps\n",
    "num_bootstraps = 10000\n",
    "corr = np.zeros(num_bootstraps)\n",
    "p = np.zeros(num_bootstraps)\n",
    "\n",
    "for i in np.arange(num_bootstraps):\n",
    "    \n",
    "    # with replacement generate a sample number from 0:N and do that N times\n",
    "    index = np.random.randint(N, size=N)\n",
    "\n",
    "    # use that to pull data from each of our arrays\n",
    "    tmp1 = d1[index]\n",
    "    tmp2 = d2[index]\n",
    "    \n",
    "    # compute correlation\n",
    "    corr[i], p[i] = stats.pearsonr(tmp1,tmp2)\n",
    "    \n",
    "# then compute 95% CIs based on percentiles \n",
    "CIs = np.percentile(corr, [2.5, 97.5])\n",
    "\n",
    "# histogram it\n",
    "plt.title('')\n",
    "plt.hist(corr, color='r', alpha=1, bins=30)\n",
    "plt.axvline(parametric_r, color='b', linewidth=2)\n",
    "plt.axvline(CIs[0], color='k', linewidth=2)\n",
    "plt.axvline(CIs[1], color='k', linewidth=2)\n",
    "plt.xlabel('Correlation distribution')\n",
    "plt.ylabel('Count')\n",
    "plt.show()"
   ]
  },
  {
   "cell_type": "markdown",
   "metadata": {},
   "source": [
    "- bootstrapping at the sample level, randomization at the population level to avoid bias"
   ]
  },
  {
   "cell_type": "code",
   "execution_count": null,
   "metadata": {},
   "outputs": [],
   "source": []
  },
  {
   "cell_type": "code",
   "execution_count": null,
   "metadata": {},
   "outputs": [],
   "source": []
  },
  {
   "cell_type": "code",
   "execution_count": null,
   "metadata": {},
   "outputs": [],
   "source": []
  },
  {
   "cell_type": "markdown",
   "metadata": {},
   "source": [
    "# InClass exercises (randomization and bootstrapping)\n"
   ]
  },
  {
   "cell_type": "markdown",
   "metadata": {},
   "source": [
    "## First start by importing the packages you'll need. \n",
    "* Numpy, scipy, and matplotlib\n"
   ]
  },
  {
   "cell_type": "code",
   "execution_count": 1,
   "metadata": {},
   "outputs": [],
   "source": [
    "import numpy as np\n",
    "from scipy import stats  # has t-tests and other stats stuff...\n",
    "import matplotlib.pyplot as plt"
   ]
  },
  {
   "cell_type": "markdown",
   "metadata": {},
   "source": [
    "## Part I: Start with some data. This is a slightly modified part of the Anscombe data set\n",
    "* First plot it\n",
    "* Then compute the correlation coeffecient that relates the two arrays\n",
    "* Then the t-value and p-value associated with the correlation. "
   ]
  },
  {
   "cell_type": "code",
   "execution_count": 48,
   "metadata": {},
   "outputs": [],
   "source": [
    "d1 = np.array([8.1, 8.01, 7.8, 7.85, 8.21, 8.11, 7.95, 12.5, 8.05, 7.98, 8.13])\n",
    "d2 = np.array([6.58, 5.76, 7.71, 8.84, 8.47, 7.04, 5.25, 19, 5.56, 7.91, 6.89])"
   ]
  },
  {
   "cell_type": "markdown",
   "metadata": {},
   "source": [
    "## Ok - now scatterplot the data"
   ]
  },
  {
   "cell_type": "code",
   "execution_count": null,
   "metadata": {},
   "outputs": [],
   "source": [
    "plt.scatter(d1,d2,color='r',marker='o')\n",
    "plt.show()"
   ]
  },
  {
   "cell_type": "markdown",
   "metadata": {},
   "source": [
    "## Based on this plot, what do you think is going to happen when we compare the output from a parametric test and a radomization test?\n",
    "* First compute parametric correlation coef and p-value..."
   ]
  },
  {
   "cell_type": "code",
   "execution_count": 1,
   "metadata": {},
   "outputs": [],
   "source": [
    "# parametric correlation coeffecient\n",
    "N = len(d1)\n",
    "\n",
    "parametric_r, parametric_p = stats.pearsonr(d1, d2)\n",
    "\n",
    "print('Correlation coef: ', parametric_r)\n",
    "print('P value: ', parametric_p)\n"
   ]
  },
  {
   "cell_type": "markdown",
   "metadata": {},
   "source": [
    "## Now use randomization testing to put a (slightly) better p-value on the data...\n",
    "* Run 10000 iterations of the randomization test to evalute how likely your correltation value is under the assumption that your condition label makes no difference (ie. that your manipulation is meaningless)\n",
    "* On each iteration randomly decide if each data point is assigned to one condition or the other\n",
    "    * One easy way to do this is to flip a coin to determine assignment of each data point (e.g. `if np.random.rand() < .5` then assign a data point to condition 1, otherwise to condition 2\n",
    "* then re-compute correlation on each iteration\n",
    "* then compare the distribution of p values under the null to your obtained p-value"
   ]
  },
  {
   "cell_type": "code",
   "execution_count": null,
   "metadata": {},
   "outputs": [],
   "source": [
    "\n",
    "# figure out how many times we want to run the randomization test...\n",
    "num_rands = 10000\n",
    "null_r = np.zeros(num_rands)\n",
    "tmp0 = np.zeros(N)\n",
    "tmp1 = np.zeros(N)\n",
    "\n",
    "# start a loop over randomization iterations\n",
    "for i in np.arange(num_rands):\n",
    "    \n",
    "    # write this out explicitly for clarity - randomly assigning numbers from d1 or d2\n",
    "    # i.e. condition doesn't matter. \n",
    "    for j in np.arange(N):   \n",
    "        \n",
    "        if np.random.rand(1) < .5:\n",
    "            tmp0[j] = d1[j]\n",
    "            tmp1[j] = d2[j]\n",
    "        else:\n",
    "            tmp0[j] = d2[j]\n",
    "            tmp1[j] = d1[j]\n",
    "\n",
    "    # then correlate the two randomized data vectors...compute tvalues\n",
    "    null_r[i], _ = stats.pearsonr(tmp0, tmp1)\n",
    "\n",
    "# compute the p-value of our real t-score (t_val) vs our radomized distribution\n",
    "null_p = 2 * (np.sum(null_r > parametric_r) / num_rands)\n",
    "\n",
    "print('Randomization-based p-value: ', np.round(null_p,4), ' Parametric P-value: ', np.round(parametric_p,4))"
   ]
  },
  {
   "cell_type": "markdown",
   "metadata": {},
   "source": [
    "## Would you still want to publish these data? Why does label swapping here still result in such a low p-value when the correlation is visibly so dubious? Why would bootstrapping be more appropriate here? Give it a try to see what happens...\n",
    "* Resample the data **with replacement** (10000 times or whatever)\n",
    "* On each bootstrap iteration recompute your correlation\n",
    "* Then compute confidence intervals...\n"
   ]
  },
  {
   "cell_type": "code",
   "execution_count": null,
   "metadata": {},
   "outputs": [],
   "source": [
    "# number of bootstraps\n",
    "num_bootstraps = 10000\n",
    "corr = np.zeros(num_bootstraps)\n",
    "p = np.zeros(num_bootstraps)\n",
    "N = len(d1)\n",
    "\n",
    "for i in np.arange(num_bootstraps):\n",
    "    \n",
    "    # with replacement generate a sample number from 0:N and do that N times\n",
    "    index = np.random.randint(N, size=N)\n",
    "\n",
    "    # use that to pull data from each of our arrays\n",
    "    tmp1 = d1[index]\n",
    "    tmp2 = d2[index]\n",
    "    \n",
    "    # compute correlation\n",
    "    corr[i], p[i] = stats.pearsonr(tmp1,tmp2)\n",
    "    \n",
    "# then compute 95% CIs based on percentiles \n",
    "CIs = np.percentile(corr, [2.5, 97.5])\n",
    "\n",
    "# histogram it\n",
    "plt.hist(corr, color='r', alpha=1, bins=30)\n",
    "plt.axvline(parametric_r, color='b', linewidth=1)\n",
    "plt.axvline(CIs[0], color='k', linewidth=1)\n",
    "plt.axvline(CIs[1], color='k', linewidth=1)\n",
    "plt.xlabel('Correlation distribution')\n",
    "plt.ylabel('Count')\n",
    "plt.show()"
   ]
  }
 ],
 "metadata": {
  "kernelspec": {
   "display_name": "Python 3",
   "language": "python",
   "name": "python3"
  },
  "language_info": {
   "codemirror_mode": {
    "name": "ipython",
    "version": 3
   },
   "file_extension": ".py",
   "mimetype": "text/x-python",
   "name": "python",
   "nbconvert_exporter": "python",
   "pygments_lexer": "ipython3",
   "version": "3.8.8"
  }
 },
 "nbformat": 4,
 "nbformat_minor": 2
}
